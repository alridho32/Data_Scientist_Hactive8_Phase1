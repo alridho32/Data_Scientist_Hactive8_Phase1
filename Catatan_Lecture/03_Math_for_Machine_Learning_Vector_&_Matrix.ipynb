{
  "cells": [
    {
      "cell_type": "markdown",
      "metadata": {
        "id": "Fvzr9SELYTB2"
      },
      "source": [
        "# Phase 1 - Week 1 - Day 2 AM - Math for Machine Learning - Vector & Matrix"
      ]
    },
    {
      "cell_type": "markdown",
      "metadata": {
        "id": "gf_hksLhSZ1B"
      },
      "source": [
        "# A. Vector"
      ]
    },
    {
      "cell_type": "markdown",
      "metadata": {
        "id": "j9JCNtzpScTD"
      },
      "source": [
        "## A.1 - Define A Vector"
      ]
    },
    {
      "cell_type": "code",
      "execution_count": 1,
      "metadata": {
        "id": "1kG4ENhsu1pq"
      },
      "outputs": [],
      "source": [
        "# Import library\n",
        "\n",
        "import numpy as np"
      ]
    },
    {
      "cell_type": "code",
      "execution_count": 2,
      "metadata": {
        "colab": {
          "base_uri": "https://localhost:8080/"
        },
        "id": "_slLapBdSlKR",
        "outputId": "80f541f6-daff-4ec0-ef42-79d04803f7b2"
      },
      "outputs": [
        {
          "data": {
            "text/plain": [
              "array([1, 2, 3])"
            ]
          },
          "execution_count": 2,
          "metadata": {},
          "output_type": "execute_result"
        }
      ],
      "source": [
        "# Define a vector\n",
        "\n",
        "a = [1, 2, 3]\n",
        "vect_a = np.array(a)\n",
        "vect_a"
      ]
    },
    {
      "cell_type": "code",
      "execution_count": 3,
      "metadata": {
        "colab": {
          "base_uri": "https://localhost:8080/"
        },
        "id": "ksLlURUQSuNO",
        "outputId": "7501fc14-0b21-43cc-e22d-5d5462303fa8"
      },
      "outputs": [
        {
          "name": "stdout",
          "output_type": "stream",
          "text": [
            "Type :  <class 'numpy.ndarray'>\n",
            "Size :  (3,)\n"
          ]
        }
      ],
      "source": [
        "# Check type of the variable and vector size\n",
        "\n",
        "print('Type : ', type(vect_a))\n",
        "print('Size : ', vect_a.shape)"
      ]
    },
    {
      "cell_type": "markdown",
      "metadata": {
        "id": "YZOY3RfPWMEY"
      },
      "source": [
        "## A.2 - Vector Norm"
      ]
    },
    {
      "cell_type": "code",
      "execution_count": 4,
      "metadata": {
        "colab": {
          "base_uri": "https://localhost:8080/"
        },
        "id": "HSZE3b76WOTa",
        "outputId": "01125154-9309-4633-ae72-5d1146e1dc7d"
      },
      "outputs": [
        {
          "name": "stdout",
          "output_type": "stream",
          "text": [
            "L1 - Manhattan Distance\n",
            "7.0\n",
            "\n",
            "L2 - Euclidean Distance\n",
            "5.0\n",
            "5.0\n"
          ]
        }
      ],
      "source": [
        "# Find the vector norm\n",
        "\n",
        "b = [4, 3]\n",
        "vect_b = np.array(b)\n",
        "\n",
        "print('L1 - Manhattan Distance')\n",
        "print(np.linalg.norm(vect_b, 1))\n",
        "print('')\n",
        "\n",
        "print('L2 - Euclidean Distance')\n",
        "print(np.linalg.norm(vect_b))\n",
        "print(np.linalg.norm(vect_b, 2))"
      ]
    },
    {
      "cell_type": "markdown",
      "metadata": {
        "id": "OlX5O5F_TWFy"
      },
      "source": [
        "## A.3 - Arithmetic Operations"
      ]
    },
    {
      "cell_type": "code",
      "execution_count": 5,
      "metadata": {
        "colab": {
          "base_uri": "https://localhost:8080/"
        },
        "id": "FI4S2TZjUNk2",
        "outputId": "9c05a90e-fd4f-4687-9859-e48933c4ddba"
      },
      "outputs": [
        {
          "name": "stdout",
          "output_type": "stream",
          "text": [
            "Addition       :  [3 4 5]\n",
            "Substraction   :  [-1  0  1]\n",
            "Multiplication :  [2 4 6]\n",
            "Division       :  [0.5 1.  1.5]\n"
          ]
        }
      ],
      "source": [
        "# Arithmetic operations with a scalar (addition, substraction, multiplication, and division)\n",
        "\n",
        "c = [1, 2, 3]\n",
        "vect_c = np.array(c)\n",
        "\n",
        "print('Addition       : ', vect_c + 2)\n",
        "print('Substraction   : ', vect_c - 2)\n",
        "print('Multiplication : ', vect_c * 2)\n",
        "print('Division       : ', vect_c / 2)"
      ]
    },
    {
      "cell_type": "code",
      "execution_count": 6,
      "metadata": {
        "colab": {
          "base_uri": "https://localhost:8080/"
        },
        "id": "Fed4Y_M3UckL",
        "outputId": "d64f14d3-80da-441e-e801-52ecbdf0d9f9"
      },
      "outputs": [
        {
          "name": "stdout",
          "output_type": "stream",
          "text": [
            "Addition     :  [5 7 9]\n",
            "\n",
            "Substraction :  [-3 -3 -3]\n",
            "\n",
            "Division     :  [0.25 0.4  0.5 ]\n",
            "\n",
            "Multiplication (element-wise) :  [ 4 10 18]\n",
            "\n",
            "Multiplication (dot product)  : \n",
            "Syntax 1 :  32\n",
            "Syntax 2 :  32\n",
            "Syntax 3 :  32\n"
          ]
        }
      ],
      "source": [
        "# Arithmetic operations between vectors (addition, substraction, multiplication, and division)\n",
        "\n",
        "d = [1, 2, 3]\n",
        "e = [4, 5, 6]\n",
        "\n",
        "vect_d = np.array(d)\n",
        "vect_e = np.array(e)\n",
        "\n",
        "print('Addition     : ', vect_d + vect_e)\n",
        "print('')\n",
        "\n",
        "print('Substraction : ', vect_d - vect_e)\n",
        "print('')\n",
        "\n",
        "print('Division     : ', vect_d / vect_e)\n",
        "print('')\n",
        "\n",
        "print('Multiplication (element-wise) : ', vect_d * vect_e)\n",
        "print('')\n",
        "\n",
        "print('Multiplication (dot product)  : ')\n",
        "print('Syntax 1 : ', vect_d @ vect_e)\n",
        "print('Syntax 2 : ', vect_d.dot(vect_e))\n",
        "print('Syntax 3 : ', np.dot(vect_d, vect_e))"
      ]
    },
    {
      "cell_type": "markdown",
      "metadata": {
        "id": "TXu3Hz0AbL4z"
      },
      "source": [
        "## A.4 - Cosine Similarity"
      ]
    },
    {
      "cell_type": "code",
      "execution_count": 7,
      "metadata": {
        "colab": {
          "base_uri": "https://localhost:8080/"
        },
        "id": "BVDubYp1bLS7",
        "outputId": "d253e507-2de5-4d08-e9bb-16f652ac534e"
      },
      "outputs": [
        {
          "name": "stdout",
          "output_type": "stream",
          "text": [
            "Cosine Similarity :  0.9486832980505138\n"
          ]
        }
      ],
      "source": [
        "# Cosine similarity\n",
        "\n",
        "f = [8, 0]\n",
        "g = [6, 2]\n",
        "\n",
        "vect_f = np.array(f)\n",
        "vect_g = np.array(g)\n",
        "\n",
        "cos_theta = (vect_f @ vect_g) / (np.linalg.norm(vect_f) * np.linalg.norm(vect_g))\n",
        "\n",
        "print('Cosine Similarity : ', cos_theta)"
      ]
    },
    {
      "cell_type": "code",
      "execution_count": 8,
      "metadata": {
        "colab": {
          "base_uri": "https://localhost:8080/"
        },
        "id": "R55lJKkPb-hc",
        "outputId": "621a727b-6c38-48d4-f06e-2d441212d150"
      },
      "outputs": [
        {
          "name": "stdout",
          "output_type": "stream",
          "text": [
            "Radian :  0.3217505543966423\n",
            "Degree :  18.434948822922017\n"
          ]
        }
      ],
      "source": [
        "# Find the radian and the degree\n",
        "\n",
        "radian = np.arccos(cos_theta)\n",
        "degree = np.degrees(radian)\n",
        "\n",
        "print('Radian : ', radian)\n",
        "print('Degree : ', degree)"
      ]
    },
    {
      "cell_type": "markdown",
      "metadata": {
        "id": "ruOIyBW7c36B"
      },
      "source": [
        "## A.5 - Case Study"
      ]
    },
    {
      "cell_type": "markdown",
      "metadata": {
        "id": "r80KrY6Pc60i"
      },
      "source": [
        "```\n",
        "teks_1 = saya pergi ke rumah kakek saya\n",
        "teks_2 = saya pergi ke rumah nenek saya\n",
        "```"
      ]
    },
    {
      "cell_type": "code",
      "execution_count": 9,
      "metadata": {
        "colab": {
          "base_uri": "https://localhost:8080/"
        },
        "id": "1HYSzORJc3n2",
        "outputId": "5bee8641-0620-4aa0-eb2b-21babc971dc2"
      },
      "outputs": [
        {
          "name": "stdout",
          "output_type": "stream",
          "text": [
            "Cosine Similarity :  0.8749999999999998\n"
          ]
        }
      ],
      "source": [
        "# Find the similarity\n",
        "\n",
        "t1 = [2, 1, 1, 1, 1, 0]\n",
        "t2 = [2, 1, 1, 1, 0, 1]\n",
        "\n",
        "vect_t1 = np.array(t1)\n",
        "vect_t2 = np.array(t2)\n",
        "\n",
        "cos_theta = (vect_t1 @ vect_t2) / (np.linalg.norm(vect_t1) * np.linalg.norm(vect_t2))\n",
        "\n",
        "print('Cosine Similarity : ', cos_theta)"
      ]
    },
    {
      "cell_type": "markdown",
      "metadata": {
        "id": "zFYZW_vmeq_K"
      },
      "source": [
        "# B. Matrix"
      ]
    },
    {
      "cell_type": "markdown",
      "metadata": {
        "id": "VIw0cTh0d48O"
      },
      "source": [
        "## B.1 - Define A Matrix"
      ]
    },
    {
      "cell_type": "code",
      "execution_count": 10,
      "metadata": {
        "colab": {
          "base_uri": "https://localhost:8080/"
        },
        "id": "2PKpLK1eev8t",
        "outputId": "b37ff010-0a2c-4220-b9b3-8d45fedc5051"
      },
      "outputs": [
        {
          "data": {
            "text/plain": [
              "array([[1, 2, 3],\n",
              "       [4, 5, 6],\n",
              "       [7, 8, 9]])"
            ]
          },
          "execution_count": 10,
          "metadata": {},
          "output_type": "execute_result"
        }
      ],
      "source": [
        "# Define a matrix\n",
        "\n",
        "A = [[1, 2, 3],\n",
        "     [4, 5, 6],\n",
        "     [7, 8, 9]]\n",
        "\n",
        "matrix_A = np.array(A)\n",
        "matrix_A"
      ]
    },
    {
      "cell_type": "code",
      "execution_count": 11,
      "metadata": {
        "colab": {
          "base_uri": "https://localhost:8080/"
        },
        "id": "j7vrMaRVd9g3",
        "outputId": "1d978097-802b-4195-d252-2f10a7f56e79"
      },
      "outputs": [
        {
          "name": "stdout",
          "output_type": "stream",
          "text": [
            "Type :  <class 'numpy.ndarray'>\n",
            "Size :  (3, 3)\n"
          ]
        }
      ],
      "source": [
        "# Check type of the variable and matrix size\n",
        "\n",
        "print('Type : ', type(matrix_A))\n",
        "print('Size : ', matrix_A.shape)"
      ]
    },
    {
      "cell_type": "code",
      "execution_count": 12,
      "metadata": {
        "colab": {
          "base_uri": "https://localhost:8080/"
        },
        "id": "niXMM969dOZV",
        "outputId": "d257b6e3-ddcd-4458-9c47-dd96bc6745ea"
      },
      "outputs": [
        {
          "name": "stdout",
          "output_type": "stream",
          "text": [
            "Upper triangular matrix : \n",
            " [[1 2 3]\n",
            " [0 5 6]\n",
            " [0 0 9]]\n",
            "\n",
            "Lower triangular matrix : \n",
            " [[1 0 0]\n",
            " [4 5 0]\n",
            " [7 8 9]]\n",
            "\n",
            "Diagonal matrix         : \n",
            " [1 5 9]\n",
            "\n",
            "Identity matrix (3,3)   : \n",
            " [[1. 0. 0.]\n",
            " [0. 1. 0.]\n",
            " [0. 0. 1.]]\n",
            "\n"
          ]
        }
      ],
      "source": [
        "# Type of matrix\n",
        "\n",
        "print('Upper triangular matrix : \\n', np.triu(matrix_A))\n",
        "print('')\n",
        "\n",
        "print('Lower triangular matrix : \\n', np.tril(matrix_A))\n",
        "print('')\n",
        "\n",
        "print('Diagonal matrix         : \\n', np.diag(matrix_A))\n",
        "print('')\n",
        "\n",
        "print('Identity matrix (3,3)   : \\n', np.eye(3, 3))\n",
        "print('')"
      ]
    },
    {
      "cell_type": "markdown",
      "metadata": {
        "id": "NMNgZ0l_eEsW"
      },
      "source": [
        "## B.2 - Arithmetic Operations"
      ]
    },
    {
      "cell_type": "code",
      "execution_count": 13,
      "metadata": {
        "colab": {
          "base_uri": "https://localhost:8080/"
        },
        "id": "HA99gRnKfbld",
        "outputId": "2bb14ccb-d216-49bd-9097-41d5627d94b8"
      },
      "outputs": [
        {
          "name": "stdout",
          "output_type": "stream",
          "text": [
            "Addition       : \n",
            " [[3 4]\n",
            " [5 6]\n",
            " [7 8]]\n",
            "\n",
            "Substraction   : \n",
            " [[-1  0]\n",
            " [ 1  2]\n",
            " [ 3  4]]\n",
            "\n",
            "Multiplication : \n",
            " [[ 2  4]\n",
            " [ 6  8]\n",
            " [10 12]]\n",
            "\n",
            "Division       : \n",
            " [[0.5 1. ]\n",
            " [1.5 2. ]\n",
            " [2.5 3. ]]\n",
            "\n"
          ]
        }
      ],
      "source": [
        "# Arithmetic operations with a scalar (addition, substraction, multiplication, and division)\n",
        "\n",
        "B = [[1, 2],\n",
        "     [3, 4],\n",
        "     [5, 6]]\n",
        "\n",
        "matrix_B = np.array(B)\n",
        "\n",
        "print('Addition       : \\n', matrix_B + 2)\n",
        "print('')\n",
        "\n",
        "print('Substraction   : \\n', matrix_B - 2)\n",
        "print('')\n",
        "\n",
        "print('Multiplication : \\n', matrix_B * 2)\n",
        "print('')\n",
        "\n",
        "print('Division       : \\n', matrix_B / 2)\n",
        "print('')"
      ]
    },
    {
      "cell_type": "code",
      "execution_count": 14,
      "metadata": {
        "colab": {
          "base_uri": "https://localhost:8080/"
        },
        "id": "-jHoYEwqfzlm",
        "outputId": "15f49054-b7fb-4293-eab8-b69e08e86b75"
      },
      "outputs": [
        {
          "name": "stdout",
          "output_type": "stream",
          "text": [
            "Addition     : \n",
            " [[ 8 10]\n",
            " [12 14]\n",
            " [16 18]]\n",
            "\n",
            "Substraction : \n",
            " [[-6 -6]\n",
            " [-6 -6]\n",
            " [-6 -6]]\n",
            "\n",
            "Division     : \n",
            " [[0.14285714 0.25      ]\n",
            " [0.33333333 0.4       ]\n",
            " [0.45454545 0.5       ]]\n",
            "\n",
            "Multiplication (element-wise) : \n",
            " [[ 7 16]\n",
            " [27 40]\n",
            " [55 72]]\n",
            "\n"
          ]
        }
      ],
      "source": [
        "# Arithmetic operations between matrices (addition, substraction, multiplication, and division)\n",
        "\n",
        "C = [[1, 2],\n",
        "     [3, 4],\n",
        "     [5, 6]]\n",
        "\n",
        "matrix_C = np.array(C)\n",
        "\n",
        "D = [[7, 8],\n",
        "     [9, 10],\n",
        "     [11, 12]]\n",
        "matrix_D = np.array(D)\n",
        "\n",
        "print('Addition     : \\n', matrix_C + matrix_D)\n",
        "print('')\n",
        "\n",
        "print('Substraction : \\n', matrix_C - matrix_D)\n",
        "print('')\n",
        "\n",
        "print('Division     : \\n', matrix_C / matrix_D)\n",
        "print('')\n",
        "\n",
        "print('Multiplication (element-wise) : \\n', matrix_C * matrix_D)\n",
        "print('')"
      ]
    },
    {
      "cell_type": "code",
      "execution_count": 15,
      "metadata": {
        "colab": {
          "base_uri": "https://localhost:8080/"
        },
        "id": "VVUdamasiN64",
        "outputId": "c6920287-b8ac-4d00-af0c-46e84a0258ac"
      },
      "outputs": [
        {
          "name": "stdout",
          "output_type": "stream",
          "text": [
            "Multiplication (dot product)\n",
            "Syntax 1 : \n",
            " [[ 7 10]\n",
            " [15 22]\n",
            " [23 34]]\n",
            "\n",
            "Syntax 2 : \n",
            " [[ 7 10]\n",
            " [15 22]\n",
            " [23 34]]\n",
            "\n",
            "Syntax 3 : \n",
            " [[ 7 10]\n",
            " [15 22]\n",
            " [23 34]]\n",
            "\n"
          ]
        }
      ],
      "source": [
        "# Multiplication (dot product) between matrices\n",
        "\n",
        "E = [[1, 2],\n",
        "     [3, 4],\n",
        "     [5, 6]]\n",
        "\n",
        "F = [[1, 2],\n",
        "     [3, 4]]\n",
        "\n",
        "matrix_E = np.array(E)\n",
        "matrix_F = np.array(F)\n",
        "\n",
        "print('Multiplication (dot product)')\n",
        "\n",
        "print('Syntax 1 : \\n', matrix_E @ matrix_F)\n",
        "print('')\n",
        "\n",
        "print('Syntax 2 : \\n', matrix_E.dot(matrix_F))\n",
        "print('')\n",
        "\n",
        "print('Syntax 3 : \\n', np.dot(matrix_E, matrix_F))\n",
        "print('')"
      ]
    },
    {
      "cell_type": "code",
      "execution_count": 16,
      "metadata": {
        "colab": {
          "base_uri": "https://localhost:8080/"
        },
        "id": "z5B7v4f7mc55",
        "outputId": "2cfb0d93-1ea3-4ca8-c65d-7a25f6535f55"
      },
      "outputs": [
        {
          "name": "stdout",
          "output_type": "stream",
          "text": [
            "Original matrix : \n",
            " [[1 2 3]\n",
            " [4 5 6]\n",
            " [7 8 9]]\n",
            "\n",
            "Identity matrix : \n",
            " [[1. 0. 0.]\n",
            " [0. 1. 0.]\n",
            " [0. 0. 1.]]\n",
            "\n",
            "Multiplication result : \n",
            " [[1. 2. 3.]\n",
            " [4. 5. 6.]\n",
            " [7. 8. 9.]]\n"
          ]
        }
      ],
      "source": [
        "# Multiplication between a matrix and an identity matrix\n",
        "\n",
        "G = [[1, 2, 3],\n",
        "     [4, 5, 6],\n",
        "     [7, 8, 9]]\n",
        "\n",
        "matrix_G = np.array(G)\n",
        "print('Original matrix : \\n', matrix_G)\n",
        "print('')\n",
        "\n",
        "matrix_I = np.eye(3, 3)\n",
        "print('Identity matrix : \\n', matrix_I)\n",
        "print('')\n",
        "\n",
        "print('Multiplication result : \\n', matrix_G @ matrix_I)"
      ]
    },
    {
      "cell_type": "markdown",
      "metadata": {
        "id": "3VyNkEmfh29i"
      },
      "source": [
        "## B.3 - Transpose & Determinant"
      ]
    },
    {
      "cell_type": "code",
      "execution_count": 17,
      "metadata": {
        "colab": {
          "base_uri": "https://localhost:8080/"
        },
        "id": "PKTbXtkVh5Gx",
        "outputId": "ea5a20eb-7f5e-4503-a685-9033ba0566d9"
      },
      "outputs": [
        {
          "name": "stdout",
          "output_type": "stream",
          "text": [
            "Original matrix : \n",
            " [[1 2]\n",
            " [3 4]\n",
            " [5 6]]\n",
            "\n",
            "Transpose matrix : \n",
            " [[1 3 5]\n",
            " [2 4 6]]\n",
            "\n"
          ]
        }
      ],
      "source": [
        "# Transpose of a matrix\n",
        "\n",
        "H = [[1, 2],\n",
        "     [3, 4],\n",
        "     [5, 6]]\n",
        "\n",
        "matrix_H = np.array(H)\n",
        "\n",
        "print('Original matrix : \\n', matrix_H)\n",
        "print('')\n",
        "\n",
        "print('Transpose matrix : \\n', matrix_H.T)\n",
        "print('')"
      ]
    },
    {
      "cell_type": "code",
      "execution_count": 18,
      "metadata": {
        "colab": {
          "base_uri": "https://localhost:8080/"
        },
        "id": "AscTDbARiI5_",
        "outputId": "1d7dafca-51ef-431d-9791-a75590459d2b"
      },
      "outputs": [
        {
          "name": "stdout",
          "output_type": "stream",
          "text": [
            "Determinant of matrix_H :  -2.0000000000000004\n",
            "Determinant of matrix_J :  -27.0\n"
          ]
        }
      ],
      "source": [
        "# Determinant of a matrix\n",
        "\n",
        "J = [[1, 2],\n",
        "     [3, 4]]\n",
        "\n",
        "K = [[10, 2, 3],\n",
        "     [4, 5, 6],\n",
        "     [7, 8, 9]]\n",
        "\n",
        "matrix_J = np.array(J)\n",
        "matrix_K = np.array(K)\n",
        "\n",
        "print('Determinant of matrix_H : ', np.linalg.det(matrix_J))\n",
        "print('Determinant of matrix_J : ', np.linalg.det(matrix_K))"
      ]
    },
    {
      "cell_type": "markdown",
      "metadata": {
        "id": "Sysp251AkDF4"
      },
      "source": [
        "## B.4 - Inverse"
      ]
    },
    {
      "cell_type": "code",
      "execution_count": 19,
      "metadata": {
        "colab": {
          "base_uri": "https://localhost:8080/"
        },
        "id": "8XFkXHSUkFJH",
        "outputId": "d32fbf8f-3fb4-4955-9df9-d12c2bca2461"
      },
      "outputs": [
        {
          "name": "stdout",
          "output_type": "stream",
          "text": [
            "Original matrix : \n",
            " [[1 2]\n",
            " [3 4]]\n",
            "\n",
            "Inverse matrix  : \n",
            " [[-2.   1. ]\n",
            " [ 1.5 -0.5]]\n",
            "\n",
            "Multiplication between a matrix and its inverse : \n",
            " [[1.0000000e+00 0.0000000e+00]\n",
            " [8.8817842e-16 1.0000000e+00]]\n"
          ]
        }
      ],
      "source": [
        "# Inverse of matrix\n",
        "\n",
        "L = [[1, 2],\n",
        "     [3, 4]]\n",
        "\n",
        "matrix_L = np.array(L)\n",
        "inverse_matrix_L = np.linalg.inv(matrix_L)\n",
        "\n",
        "print('Original matrix : \\n', matrix_L)\n",
        "print('')\n",
        "\n",
        "print('Inverse matrix  : \\n', inverse_matrix_L)\n",
        "print('')\n",
        "\n",
        "print('Multiplication between a matrix and its inverse : \\n', matrix_L @ inverse_matrix_L)"
      ]
    },
    {
      "cell_type": "markdown",
      "metadata": {
        "id": "-CPLMcxxoR2i"
      },
      "source": [
        "## B.5 - Eigendecomposition"
      ]
    },
    {
      "cell_type": "code",
      "execution_count": 20,
      "metadata": {
        "colab": {
          "base_uri": "https://localhost:8080/"
        },
        "id": "25PybP1Pjn0b",
        "outputId": "7bcf3a00-313a-438f-cd90-bc1bf05063e8"
      },
      "outputs": [
        {
          "name": "stdout",
          "output_type": "stream",
          "text": [
            "Eigenvalues  : \n",
            " [2. 3.]\n",
            "\n",
            "Eigenvectors : \n",
            " [[1. 0.]\n",
            " [0. 1.]]\n",
            "\n"
          ]
        }
      ],
      "source": [
        "# Find the eigenvalues and the eigenvectors from a matrix\n",
        "\n",
        "M = [[2, 0],\n",
        "     [0, 3]]\n",
        "\n",
        "matrix_M = np.array(M)\n",
        "\n",
        "eigenvalues, eigenvectors = np.linalg.eig(matrix_M)\n",
        "\n",
        "print('Eigenvalues  : \\n', eigenvalues)\n",
        "print('')\n",
        "\n",
        "print('Eigenvectors : \\n', eigenvectors)\n",
        "print('')"
      ]
    },
    {
      "cell_type": "code",
      "execution_count": 21,
      "metadata": {
        "colab": {
          "base_uri": "https://localhost:8080/"
        },
        "id": "i57EVw2tpBFB",
        "outputId": "07a8b543-7253-4f87-a16e-90fe461d3766"
      },
      "outputs": [
        {
          "name": "stdout",
          "output_type": "stream",
          "text": [
            "Matrix reconstruct : \n",
            " [[2. 0.]\n",
            " [0. 3.]]\n",
            "\n",
            "Equality check :  True\n"
          ]
        }
      ],
      "source": [
        "# Reconstruct the matrix from its eigenvalues and eigenvectors\n",
        "\n",
        "matrix_reconstruct = eigenvectors @ np.diag(eigenvalues) @ np.linalg.inv(eigenvectors)\n",
        "\n",
        "print('Matrix reconstruct : \\n', matrix_reconstruct)\n",
        "print('')\n",
        "\n",
        "print('Equality check : ', np.array_equal(matrix_M, matrix_reconstruct))"
      ]
    },
    {
      "cell_type": "markdown",
      "metadata": {
        "id": "2RPqzVPtPjYn"
      },
      "source": [
        "## B.6 - Usecase : Page Rank"
      ]
    },
    {
      "cell_type": "markdown",
      "metadata": {
        "id": "P_l_widmrBG3"
      },
      "source": [
        "PageRank (developed by Larry Page and Sergey Brin) revolutionized web search by generating a ranked list of web pages based on the underlying connectivity of the web. The PageRank algorithm is based on an ideal random web surfer who, when reaching a page, goes to the next page by clicking on a link. The surfer has equal probability of clicking any link on the page and, when reaching a page with no links, has equal probability of moving to any other page by typing in its URL. **The PageRank is the ranked order of the pages from the most to the least probable page the surfer will be viewing.**"
      ]
    },
    {
      "cell_type": "markdown",
      "metadata": {
        "id": "UD6wIsfRV9Jg"
      },
      "source": [
        "For example, suppose there are 4 webs like the image below.\n",
        "\n",
        "<img src='https://gowrishankar.info/blog/eigenvalue-eigenvector-eigenspace-and-implementation-of-googles-pagerank-algorithm/links.png'>\n",
        "\n",
        "To calculate the pagerank, we need to create an adjancecy matrix.\n",
        "\n",
        "<img src='https://gowrishankar.info/blog/eigenvalue-eigenvector-eigenspace-and-implementation-of-googles-pagerank-algorithm/m1.png'>"
      ]
    },
    {
      "cell_type": "code",
      "execution_count": 22,
      "metadata": {
        "colab": {
          "base_uri": "https://localhost:8080/"
        },
        "id": "NcEW19pKPnDO",
        "outputId": "b9c93ab4-d0f7-48eb-a176-d5f3fa11b387"
      },
      "outputs": [
        {
          "data": {
            "text/plain": [
              "array([[0.        , 0.33333333, 0.33333333, 0.33333333],\n",
              "       [0.5       , 0.        , 0.        , 0.5       ],\n",
              "       [0.        , 0.        , 0.        , 1.        ],\n",
              "       [0.        , 0.5       , 0.5       , 0.        ]])"
            ]
          },
          "execution_count": 22,
          "metadata": {},
          "output_type": "execute_result"
        }
      ],
      "source": [
        "# Step 1 : Define the adjacency matrix\n",
        "\n",
        "M = np.array([\n",
        "    # 1   2     3     4\n",
        "    [0,   1/3,  1/3,  1/3],   # From 1\n",
        "    [1/2, 0,    0,    1/2],   # From 2\n",
        "    [0,   0,    0,    1],     # From 3\n",
        "    [0,   1/2,  1/2,  0]      # From 4\n",
        "])\n",
        "M"
      ]
    },
    {
      "cell_type": "code",
      "execution_count": 23,
      "metadata": {
        "colab": {
          "base_uri": "https://localhost:8080/"
        },
        "id": "Fq_7-rbsPtKj",
        "outputId": "3979f359-c565-4238-d705-837fcd7a9587"
      },
      "outputs": [
        {
          "name": "stdout",
          "output_type": "stream",
          "text": [
            "Eigen Values : \n",
            "[ 1.00000000e+00 -9.17517095e-02 -9.08248290e-01 -6.82897983e-17]\n",
            "\n",
            "Eigen Vectors : \n",
            "[[-2.22988244e-01 -8.25340062e-01  2.62323812e-01 -8.01783726e-01]\n",
            " [-4.45976488e-01  1.51452723e-01 -4.76510307e-01  1.25887458e-16]\n",
            " [-4.45976488e-01  1.51452723e-01 -4.76510307e-01  2.67261242e-01]\n",
            " [-7.43294146e-01  5.22434615e-01  6.90696802e-01  5.34522484e-01]]\n",
            "\n"
          ]
        }
      ],
      "source": [
        "# Step 2 : Calculate eigenvectors and eigenvalues\n",
        "\n",
        "eigenvalues, eigenvectors = np.linalg.eig(M.T)\n",
        "print('Eigen Values : ')\n",
        "print(eigenvalues)\n",
        "print('')\n",
        "\n",
        "print('Eigen Vectors : ')\n",
        "print(eigenvectors)\n",
        "print('')"
      ]
    },
    {
      "cell_type": "code",
      "execution_count": 24,
      "metadata": {
        "colab": {
          "base_uri": "https://localhost:8080/"
        },
        "id": "1MW8rHZSphPM",
        "outputId": "1c268d02-6e23-4894-a282-e3c84d12e16e"
      },
      "outputs": [
        {
          "name": "stdout",
          "output_type": "stream",
          "text": [
            "Index largest Eigen Values :  0\n",
            "Largest Eigen Values       :  1.0000000000000004\n",
            "Largest Eigen Vectors      :  [-0.22298824 -0.44597649 -0.44597649 -0.74329415]\n"
          ]
        }
      ],
      "source": [
        "# Step 3 : Find eigenvector that has the largest eigenvalue\n",
        "\n",
        "index_largest_eigenvalues = np.argmax(eigenvalues)\n",
        "largest_eigenvalues = eigenvalues[index_largest_eigenvalues]\n",
        "largest_eigenvectors = eigenvectors[:, index_largest_eigenvalues]\n",
        "\n",
        "print('Index largest Eigen Values : ', index_largest_eigenvalues)\n",
        "print('Largest Eigen Values       : ', largest_eigenvalues)\n",
        "print('Largest Eigen Vectors      : ', largest_eigenvectors)"
      ]
    },
    {
      "cell_type": "code",
      "execution_count": 25,
      "metadata": {
        "colab": {
          "base_uri": "https://localhost:8080/"
        },
        "id": "LSxvc-Otp3-c",
        "outputId": "dc8e89cc-593f-4b83-f797-aac5916fb274"
      },
      "outputs": [
        {
          "data": {
            "text/plain": [
              "array([4, 3, 2, 1])"
            ]
          },
          "execution_count": 25,
          "metadata": {},
          "output_type": "execute_result"
        }
      ],
      "source": [
        "# Step 4 : Get the ranked orders of the pages\n",
        "\n",
        "largest_eigenvectors = largest_eigenvectors.real\n",
        "ranks = largest_eigenvectors / largest_eigenvectors.sum()\n",
        "ranks = np.argsort(ranks)[::-1]+1\n",
        "ranks"
      ]
    },
    {
      "cell_type": "markdown",
      "metadata": {
        "id": "bATGS-XGO3Ei"
      },
      "source": [
        "**CONCLUSION:**\n",
        "\n",
        "1. Page `D` is a popular page because all other pages are reffering to page `D`.\n",
        "\n",
        "2. Page `C` & page `B` are equally visited because they both are reffered by 2 other pages.\n",
        "\n",
        "3. Page `A` is an the least popular page because it is reffered only by page `B`."
      ]
    }
  ],
  "metadata": {
    "colab": {
      "collapsed_sections": [
        "j9JCNtzpScTD",
        "YZOY3RfPWMEY",
        "OlX5O5F_TWFy",
        "TXu3Hz0AbL4z",
        "ruOIyBW7c36B",
        "VIw0cTh0d48O",
        "NMNgZ0l_eEsW",
        "3VyNkEmfh29i",
        "Sysp251AkDF4",
        "-CPLMcxxoR2i"
      ],
      "provenance": []
    },
    "kernelspec": {
      "display_name": "Python 3",
      "name": "python3"
    },
    "language_info": {
      "name": "python"
    }
  },
  "nbformat": 4,
  "nbformat_minor": 0
}
