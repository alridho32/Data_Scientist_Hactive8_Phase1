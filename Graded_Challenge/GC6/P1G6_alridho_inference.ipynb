{
 "cells": [
  {
   "cell_type": "markdown",
   "metadata": {},
   "source": [
    "```\n",
    "============================================================================\n",
    "Graded Challenge 6 Clustering\n",
    "\n",
    "Nama  : Achmed Alridho Zulkarnaen\n",
    "Batch : RMT-037\n",
    "\n",
    "File ipynb ini berisikan inference untuk pengujian hasil pembuatan cluster nasabah pada bank ABC, nantinya inference ini akan memprediksi nasabah baru akan masuk ke cluster mana\n",
    "============================================================================\n",
    "```"
   ]
  },
  {
   "cell_type": "markdown",
   "metadata": {},
   "source": [
    "# **I. Import Libraries**"
   ]
  },
  {
   "cell_type": "code",
   "execution_count": 1,
   "metadata": {},
   "outputs": [],
   "source": [
    "# Import Libraries\n",
    "import json\n",
    "import pickle\n",
    "import pandas as pd"
   ]
  },
  {
   "cell_type": "markdown",
   "metadata": {},
   "source": [
    "# **II. Data Loading**"
   ]
  },
  {
   "cell_type": "code",
   "execution_count": 2,
   "metadata": {},
   "outputs": [
    {
     "name": "stdout",
     "output_type": "stream",
     "text": [
      "Model berhasil di load\n"
     ]
    }
   ],
   "source": [
    "# Load list of numerical columns\n",
    "with open('list_num_cols.txt', 'r') as file_1:\n",
    "    num_cols = json.load(file_1)\n",
    "# Load scaler\n",
    "with open('scaler.pkl', 'rb') as file_2:\n",
    "    scaler = pickle.load(file_2)\n",
    "# Load PCA\n",
    "with open('pca.pkl', 'rb') as file_3:\n",
    "    pca = pickle.load(file_3)\n",
    "# Load KMeans model\n",
    "with open('kmeans.pkl', 'rb') as file_4:\n",
    "    km = pickle.load(file_4)\n",
    "print(\"Model berhasil di load\")"
   ]
  },
  {
   "cell_type": "markdown",
   "metadata": {},
   "source": [
    "# **III. Data Inference**"
   ]
  },
  {
   "cell_type": "code",
   "execution_count": 3,
   "metadata": {},
   "outputs": [
    {
     "data": {
      "text/html": [
       "<div>\n",
       "<style scoped>\n",
       "    .dataframe tbody tr th:only-of-type {\n",
       "        vertical-align: middle;\n",
       "    }\n",
       "\n",
       "    .dataframe tbody tr th {\n",
       "        vertical-align: top;\n",
       "    }\n",
       "\n",
       "    .dataframe thead th {\n",
       "        text-align: right;\n",
       "    }\n",
       "</style>\n",
       "<table border=\"1\" class=\"dataframe\">\n",
       "  <thead>\n",
       "    <tr style=\"text-align: right;\">\n",
       "      <th></th>\n",
       "      <th>CUST_ID</th>\n",
       "      <th>BALANCE</th>\n",
       "      <th>BALANCE_FREQUENCY</th>\n",
       "      <th>PURCHASES</th>\n",
       "      <th>ONEOFF_PURCHASES</th>\n",
       "      <th>INSTALLMENTS_PURCHASES</th>\n",
       "      <th>CASH_ADVANCE</th>\n",
       "      <th>PURCHASES_FREQUENCY</th>\n",
       "      <th>ONEOFF_PURCHASES_FREQUENCY</th>\n",
       "      <th>PURCHASES_INSTALLMENTS_FREQUENCY</th>\n",
       "      <th>CASH_ADVANCE_FREQUENCY</th>\n",
       "      <th>CASH_ADVANCE_TRX</th>\n",
       "      <th>PURCHASES_TRX</th>\n",
       "      <th>CREDIT_LIMIT</th>\n",
       "      <th>PAYMENTS</th>\n",
       "      <th>MINIMUM_PAYMENTS</th>\n",
       "      <th>PRC_FULL_PAYMENT</th>\n",
       "      <th>TENURE</th>\n",
       "    </tr>\n",
       "  </thead>\n",
       "  <tbody>\n",
       "    <tr>\n",
       "      <th>0</th>\n",
       "      <td>9999</td>\n",
       "      <td>20000</td>\n",
       "      <td>0.9</td>\n",
       "      <td>500</td>\n",
       "      <td>300</td>\n",
       "      <td>200</td>\n",
       "      <td>0</td>\n",
       "      <td>0.9</td>\n",
       "      <td>0.4</td>\n",
       "      <td>0.5</td>\n",
       "      <td>0</td>\n",
       "      <td>0</td>\n",
       "      <td>10</td>\n",
       "      <td>15000</td>\n",
       "      <td>1000</td>\n",
       "      <td>200</td>\n",
       "      <td>0.1</td>\n",
       "      <td>12</td>\n",
       "    </tr>\n",
       "  </tbody>\n",
       "</table>\n",
       "</div>"
      ],
      "text/plain": [
       "   CUST_ID  BALANCE  BALANCE_FREQUENCY  PURCHASES  ONEOFF_PURCHASES  \\\n",
       "0     9999    20000                0.9        500               300   \n",
       "\n",
       "   INSTALLMENTS_PURCHASES  CASH_ADVANCE  PURCHASES_FREQUENCY  \\\n",
       "0                     200             0                  0.9   \n",
       "\n",
       "   ONEOFF_PURCHASES_FREQUENCY  PURCHASES_INSTALLMENTS_FREQUENCY  \\\n",
       "0                         0.4                               0.5   \n",
       "\n",
       "   CASH_ADVANCE_FREQUENCY  CASH_ADVANCE_TRX  PURCHASES_TRX  CREDIT_LIMIT  \\\n",
       "0                       0                 0             10         15000   \n",
       "\n",
       "   PAYMENTS  MINIMUM_PAYMENTS  PRC_FULL_PAYMENT  TENURE  \n",
       "0      1000               200               0.1      12  "
      ]
     },
     "execution_count": 3,
     "metadata": {},
     "output_type": "execute_result"
    }
   ],
   "source": [
    "data_inf = {\n",
    "    'CUST_ID': 9999,\n",
    "    'BALANCE': 20000,\n",
    "    'BALANCE_FREQUENCY': 0.9,\n",
    "    'PURCHASES': 500,\n",
    "    'ONEOFF_PURCHASES': 300,\n",
    "    'INSTALLMENTS_PURCHASES': 200,\n",
    "    'CASH_ADVANCE': 0,\n",
    "    'PURCHASES_FREQUENCY': 0.9,\n",
    "    'ONEOFF_PURCHASES_FREQUENCY': 0.4,\n",
    "    'PURCHASES_INSTALLMENTS_FREQUENCY': 0.5,\n",
    "    'CASH_ADVANCE_FREQUENCY': 0,\n",
    "    'CASH_ADVANCE_TRX': 0,\n",
    "    'PURCHASES_TRX': 10,\n",
    "    'CREDIT_LIMIT': 15000,\n",
    "    'PAYMENTS': 1000,\n",
    "    'MINIMUM_PAYMENTS': 200,\n",
    "    'PRC_FULL_PAYMENT': 0.1,\n",
    "    'TENURE': 12\n",
    "}\n",
    "\n",
    "# Membuat DataFrame inference\n",
    "data_inf = pd.DataFrame([data_inf])\n",
    "data_inf"
   ]
  },
  {
   "cell_type": "markdown",
   "metadata": {},
   "source": [
    "# **IV. Predict**"
   ]
  },
  {
   "cell_type": "code",
   "execution_count": 4,
   "metadata": {},
   "outputs": [],
   "source": [
    "def predict(data):\n",
    "    \"\"\"\n",
    "    Fungsi ini melakukan preprocessing pada data input, termasuk scaling dan PCA,\n",
    "    kemudian memberikan prediksi cluster dan label deskripsi nasabah.\n",
    "    \"\"\"\n",
    "    # Pilih kolom numerik\n",
    "    data_num = data[num_cols].copy()\n",
    "    # Isi nilai NaN dengan 0\n",
    "    data_num = data_num.fillna(0)\n",
    "    # Scaling data\n",
    "    data_scaled = scaler.transform(data_num)\n",
    "    # Aplikasi PCA\n",
    "    data_pca = pca.transform(data_scaled)\n",
    "    # Prediksi cluster\n",
    "    cluster_prediction = km.predict(data_pca)[0]  # Mengambil hasil prediksi pertama (satu baris data)\n",
    "    # Berikan label berdasarkan prediksi cluster\n",
    "    if cluster_prediction == 3:\n",
    "        label = \"Nasabah Premium\"\n",
    "    elif cluster_prediction == 2:\n",
    "        label = \"Nasabah Regular\"\n",
    "    elif cluster_prediction == 0:\n",
    "        label = \"Nasabah Pasif\"\n",
    "    elif cluster_prediction == 1:\n",
    "        label = \"Nasabah Berisiko\"\n",
    "    else:\n",
    "        label = \"Cluster Tidak Dikenali\"\n",
    "    return cluster_prediction, label"
   ]
  },
  {
   "cell_type": "code",
   "execution_count": 5,
   "metadata": {},
   "outputs": [
    {
     "name": "stdout",
     "output_type": "stream",
     "text": [
      "Nasabah Cluster: 3\n",
      "Hasil Prediksi: Nasabah Premium\n"
     ]
    }
   ],
   "source": [
    "# Predict:\n",
    "cluster, result = predict(data_inf)\n",
    "print(f\"Nasabah Cluster: {cluster}\\nHasil Prediksi: {result}\")"
   ]
  }
 ],
 "metadata": {
  "kernelspec": {
   "display_name": "base",
   "language": "python",
   "name": "python3"
  },
  "language_info": {
   "codemirror_mode": {
    "name": "ipython",
    "version": 3
   },
   "file_extension": ".py",
   "mimetype": "text/x-python",
   "name": "python",
   "nbconvert_exporter": "python",
   "pygments_lexer": "ipython3",
   "version": "3.12.3"
  }
 },
 "nbformat": 4,
 "nbformat_minor": 2
}
