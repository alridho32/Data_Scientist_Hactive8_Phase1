{
 "cells": [
  {
   "cell_type": "markdown",
   "metadata": {},
   "source": [
    "## Perkenalan"
   ]
  },
  {
   "cell_type": "markdown",
   "metadata": {},
   "source": [
    "```\n",
    "=======================================================================================================================================\n",
    "Graded Challenge 5\n",
    "\n",
    "Nama  : Achmed Alridho Zulkarnaen\n",
    "Batch : RMT-037\n",
    "\n",
    "File ipynb ini berisikan inference data untuk ML yang sudah dibuat menggunakan logistic regression.\n",
    "=======================================================================================================================================\n",
    "```"
   ]
  },
  {
   "cell_type": "markdown",
   "metadata": {},
   "source": [
    "## Import Library"
   ]
  },
  {
   "cell_type": "code",
   "execution_count": 1,
   "metadata": {},
   "outputs": [],
   "source": [
    "import pickle\n",
    "import json\n",
    "import pandas as pd\n",
    "import numpy as np"
   ]
  },
  {
   "cell_type": "markdown",
   "metadata": {},
   "source": [
    "## Load Model"
   ]
  },
  {
   "cell_type": "code",
   "execution_count": 2,
   "metadata": {},
   "outputs": [],
   "source": [
    "with open('best_lr_model2.pkl', 'rb') as file_1:\n",
    "  model = pickle.load(file_1)"
   ]
  },
  {
   "cell_type": "markdown",
   "metadata": {},
   "source": [
    "## Membuat df Dari Data Baru"
   ]
  },
  {
   "cell_type": "code",
   "execution_count": 3,
   "metadata": {},
   "outputs": [
    {
     "data": {
      "text/html": [
       "<div>\n",
       "<style scoped>\n",
       "    .dataframe tbody tr th:only-of-type {\n",
       "        vertical-align: middle;\n",
       "    }\n",
       "\n",
       "    .dataframe tbody tr th {\n",
       "        vertical-align: top;\n",
       "    }\n",
       "\n",
       "    .dataframe thead th {\n",
       "        text-align: right;\n",
       "    }\n",
       "</style>\n",
       "<table border=\"1\" class=\"dataframe\">\n",
       "  <thead>\n",
       "    <tr style=\"text-align: right;\">\n",
       "      <th></th>\n",
       "      <th>latest_ecommerce_progress</th>\n",
       "      <th>bounces</th>\n",
       "      <th>time_on_site</th>\n",
       "      <th>pageviews</th>\n",
       "      <th>source</th>\n",
       "      <th>medium</th>\n",
       "      <th>channelGrouping</th>\n",
       "      <th>deviceCategory</th>\n",
       "      <th>country</th>\n",
       "    </tr>\n",
       "  </thead>\n",
       "  <tbody>\n",
       "    <tr>\n",
       "      <th>0</th>\n",
       "      <td>5</td>\n",
       "      <td>0</td>\n",
       "      <td>2489</td>\n",
       "      <td>30</td>\n",
       "      <td>google</td>\n",
       "      <td>organic</td>\n",
       "      <td>Organic Search</td>\n",
       "      <td>desktop</td>\n",
       "      <td>Canada</td>\n",
       "    </tr>\n",
       "    <tr>\n",
       "      <th>1</th>\n",
       "      <td>4</td>\n",
       "      <td>0</td>\n",
       "      <td>436</td>\n",
       "      <td>50</td>\n",
       "      <td>google</td>\n",
       "      <td>referral</td>\n",
       "      <td>Organic Search</td>\n",
       "      <td>desktop</td>\n",
       "      <td>NaN</td>\n",
       "    </tr>\n",
       "  </tbody>\n",
       "</table>\n",
       "</div>"
      ],
      "text/plain": [
       "   latest_ecommerce_progress  bounces  time_on_site  pageviews  source  \\\n",
       "0                          5        0          2489         30  google   \n",
       "1                          4        0           436         50  google   \n",
       "\n",
       "     medium channelGrouping deviceCategory country  \n",
       "0   organic  Organic Search        desktop  Canada  \n",
       "1  referral  Organic Search        desktop     NaN  "
      ]
     },
     "execution_count": 3,
     "metadata": {},
     "output_type": "execute_result"
    }
   ],
   "source": [
    "df_inf = pd.DataFrame({\n",
    "    'latest_ecommerce_progress': [5, 4], \n",
    "    'bounces': [0, 0], \n",
    "    'time_on_site': [2489, 436], \n",
    "    'pageviews': [30, 50], \n",
    "    'source': ['google', 'google'],\n",
    "    'medium': ['organic', 'referral'],\n",
    "    'channelGrouping': ['Organic Search', 'Organic Search'],\n",
    "    'deviceCategory': ['desktop', 'desktop'],\n",
    "    'country': ['Canada', np.nan]\n",
    "})\n",
    "df_inf"
   ]
  },
  {
   "cell_type": "markdown",
   "metadata": {},
   "source": [
    "## Prediksi Model"
   ]
  },
  {
   "cell_type": "code",
   "execution_count": 4,
   "metadata": {},
   "outputs": [
    {
     "name": "stdout",
     "output_type": "stream",
     "text": [
      "[1 1]\n"
     ]
    }
   ],
   "source": [
    "y_pred_inf = model.predict(df_inf)\n",
    "print(y_pred_inf)"
   ]
  },
  {
   "cell_type": "markdown",
   "metadata": {},
   "source": [
    "Model memprediksi index ke-0 dalam df = potential buyer\n",
    "\n",
    "Model memprediksi index ke-1 dalam df = potential buyer"
   ]
  }
 ],
 "metadata": {
  "kernelspec": {
   "display_name": "base",
   "language": "python",
   "name": "python3"
  },
  "language_info": {
   "codemirror_mode": {
    "name": "ipython",
    "version": 3
   },
   "file_extension": ".py",
   "mimetype": "text/x-python",
   "name": "python",
   "nbconvert_exporter": "python",
   "pygments_lexer": "ipython3",
   "version": "3.12.3"
  }
 },
 "nbformat": 4,
 "nbformat_minor": 2
}
