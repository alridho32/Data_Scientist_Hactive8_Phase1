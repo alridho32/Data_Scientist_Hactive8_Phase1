{
 "cells": [
  {
   "cell_type": "markdown",
   "metadata": {},
   "source": [
    "# **I. Import Library**"
   ]
  },
  {
   "cell_type": "code",
   "execution_count": 1,
   "metadata": {},
   "outputs": [],
   "source": [
    "import pickle\n",
    "import json\n",
    "import pandas as pd\n",
    "import numpy as np"
   ]
  },
  {
   "cell_type": "markdown",
   "metadata": {},
   "source": [
    "# **II. Load Model**"
   ]
  },
  {
   "cell_type": "code",
   "execution_count": 2,
   "metadata": {},
   "outputs": [],
   "source": [
    "with open('list_cat_cols.txt', 'r') as file_1:\n",
    "  list_cat_col = json.load(file_1)\n",
    "\n",
    "with open('list_num_cols.txt', 'r') as file_2:\n",
    "  list_num_col = json.load(file_2)\n",
    "\n",
    "with open('encoder.pkl', 'rb') as file_3:\n",
    "  model_encoder = pickle.load(file_3)\n",
    "\n",
    "with open('scaler.pkl', 'rb') as file_4:\n",
    "  model_scaler = pickle.load(file_4)\n",
    "\n",
    "with open('model_lin_reg.pkl', 'rb') as file_5:\n",
    "  model_lin_reg = pickle.load(file_5)"
   ]
  },
  {
   "cell_type": "markdown",
   "metadata": {},
   "source": [
    "# **III. Data Inference**"
   ]
  },
  {
   "cell_type": "code",
   "execution_count": 3,
   "metadata": {},
   "outputs": [
    {
     "data": {
      "text/html": [
       "<div>\n",
       "<style scoped>\n",
       "    .dataframe tbody tr th:only-of-type {\n",
       "        vertical-align: middle;\n",
       "    }\n",
       "\n",
       "    .dataframe tbody tr th {\n",
       "        vertical-align: top;\n",
       "    }\n",
       "\n",
       "    .dataframe thead th {\n",
       "        text-align: right;\n",
       "    }\n",
       "</style>\n",
       "<table border=\"1\" class=\"dataframe\">\n",
       "  <thead>\n",
       "    <tr style=\"text-align: right;\">\n",
       "      <th></th>\n",
       "      <th>area</th>\n",
       "      <th>city</th>\n",
       "      <th>lattitude</th>\n",
       "      <th>longitude</th>\n",
       "      <th>property_type</th>\n",
       "      <th>bedrooms</th>\n",
       "      <th>bathrooms</th>\n",
       "      <th>land_area</th>\n",
       "      <th>building_area</th>\n",
       "      <th>floors</th>\n",
       "      <th>maid_bedrooms</th>\n",
       "      <th>maid_bathrooms</th>\n",
       "      <th>certificate</th>\n",
       "      <th>voltage</th>\n",
       "      <th>building_age</th>\n",
       "      <th>year</th>\n",
       "      <th>condition</th>\n",
       "      <th>garage</th>\n",
       "      <th>carport</th>\n",
       "    </tr>\n",
       "  </thead>\n",
       "  <tbody>\n",
       "    <tr>\n",
       "      <th>0</th>\n",
       "      <td>BSD City</td>\n",
       "      <td>Tangerang</td>\n",
       "      <td>-6.300733</td>\n",
       "      <td>106.586126</td>\n",
       "      <td>rumah</td>\n",
       "      <td>3</td>\n",
       "      <td>2</td>\n",
       "      <td>181</td>\n",
       "      <td>182</td>\n",
       "      <td>2</td>\n",
       "      <td>1</td>\n",
       "      <td>1</td>\n",
       "      <td>shm - sertifikat hak milik</td>\n",
       "      <td>5500</td>\n",
       "      <td>1</td>\n",
       "      <td>2021</td>\n",
       "      <td>baru</td>\n",
       "      <td>1</td>\n",
       "      <td>1</td>\n",
       "    </tr>\n",
       "  </tbody>\n",
       "</table>\n",
       "</div>"
      ],
      "text/plain": [
       "       area        city  lattitude   longitude property_type  bedrooms  \\\n",
       "0  BSD City   Tangerang  -6.300733  106.586126         rumah         3   \n",
       "\n",
       "   bathrooms  land_area  building_area  floors  maid_bedrooms  maid_bathrooms  \\\n",
       "0          2        181            182       2              1               1   \n",
       "\n",
       "                  certificate  voltage  building_age  year condition  garage  \\\n",
       "0  shm - sertifikat hak milik     5500             1  2021      baru       1   \n",
       "\n",
       "   carport  \n",
       "0        1  "
      ]
     },
     "execution_count": 3,
     "metadata": {},
     "output_type": "execute_result"
    }
   ],
   "source": [
    "\n",
    "data_inf = {'area': 'BSD City',\n",
    "             'city':' Tangerang',\n",
    "             'lattitude': -6.3007333,\n",
    "             'longitude': 106.586126,\n",
    "             'property_type':'rumah',\n",
    "             'bedrooms':3,\n",
    "             'bathrooms':2,\n",
    "             'land_area':181,\n",
    "             'building_area':182,\n",
    "             'floors':2,\n",
    "             'maid_bedrooms':1,\n",
    "             'maid_bathrooms':1,\n",
    "             'certificate': 'shm - sertifikat hak milik',\n",
    "             'voltage': 5500,\n",
    "             'building_age':1,\n",
    "             'year':2021,\n",
    "             'condition':'baru',\n",
    "             'garage':1,\n",
    "             'carport':1\n",
    "}\n",
    "\n",
    "\n",
    "data_inf = pd.DataFrame([data_inf])\n",
    "data_inf"
   ]
  },
  {
   "cell_type": "markdown",
   "metadata": {},
   "source": [
    "### Split Numerical  and Categorical"
   ]
  },
  {
   "cell_type": "code",
   "execution_count": 4,
   "metadata": {},
   "outputs": [
    {
     "data": {
      "text/html": [
       "<div>\n",
       "<style scoped>\n",
       "    .dataframe tbody tr th:only-of-type {\n",
       "        vertical-align: middle;\n",
       "    }\n",
       "\n",
       "    .dataframe tbody tr th {\n",
       "        vertical-align: top;\n",
       "    }\n",
       "\n",
       "    .dataframe thead th {\n",
       "        text-align: right;\n",
       "    }\n",
       "</style>\n",
       "<table border=\"1\" class=\"dataframe\">\n",
       "  <thead>\n",
       "    <tr style=\"text-align: right;\">\n",
       "      <th></th>\n",
       "      <th>bedrooms</th>\n",
       "      <th>land_area</th>\n",
       "      <th>building_area</th>\n",
       "      <th>floors</th>\n",
       "      <th>maid_bedrooms</th>\n",
       "      <th>maid_bathrooms</th>\n",
       "      <th>voltage</th>\n",
       "      <th>building_age</th>\n",
       "    </tr>\n",
       "  </thead>\n",
       "  <tbody>\n",
       "    <tr>\n",
       "      <th>0</th>\n",
       "      <td>3</td>\n",
       "      <td>181</td>\n",
       "      <td>182</td>\n",
       "      <td>2</td>\n",
       "      <td>1</td>\n",
       "      <td>1</td>\n",
       "      <td>5500</td>\n",
       "      <td>1</td>\n",
       "    </tr>\n",
       "  </tbody>\n",
       "</table>\n",
       "</div>"
      ],
      "text/plain": [
       "   bedrooms  land_area  building_area  floors  maid_bedrooms  maid_bathrooms  \\\n",
       "0         3        181            182       2              1               1   \n",
       "\n",
       "   voltage  building_age  \n",
       "0     5500             1  "
      ]
     },
     "execution_count": 4,
     "metadata": {},
     "output_type": "execute_result"
    }
   ],
   "source": [
    "#split between numerical and categorical columns\n",
    "data_inf_num = data_inf[list_num_col]\n",
    "data_inf_cat = data_inf[list_cat_col]\n",
    "\n",
    "#tampilkan tabel numerik\n",
    "data_inf_num"
   ]
  },
  {
   "cell_type": "markdown",
   "metadata": {},
   "source": [
    "### Feature Scaling & Encoding"
   ]
  },
  {
   "cell_type": "code",
   "execution_count": 5,
   "metadata": {},
   "outputs": [],
   "source": [
    "#feature scaling and encoding\n",
    "data_inf_cat_encoded = model_encoder.transform(data_inf_cat)\n",
    "data_inf_num_scaled = model_scaler.transform(data_inf_num)\n",
    "\n",
    "#reshape data kategorikal dari 1d menjadi 2d\n",
    "data_inf_cat_encoded = data_inf_cat_encoded.reshape(-1, 1)\n",
    "data_inf_final = np.concatenate([data_inf_num_scaled, data_inf_cat_encoded], axis = 1)"
   ]
  },
  {
   "cell_type": "markdown",
   "metadata": {},
   "source": [
    "### Predict Using Linear Regresion Model"
   ]
  },
  {
   "cell_type": "code",
   "execution_count": 6,
   "metadata": {},
   "outputs": [
    {
     "data": {
      "text/plain": [
       "array([4.15886961e+09])"
      ]
     },
     "execution_count": 6,
     "metadata": {},
     "output_type": "execute_result"
    }
   ],
   "source": [
    "#predict using linear reg model\n",
    "y_pred_inf = model_lin_reg.predict(data_inf_final)\n",
    "y_pred_inf"
   ]
  },
  {
   "cell_type": "code",
   "execution_count": 7,
   "metadata": {},
   "outputs": [
    {
     "name": "stdout",
     "output_type": "stream",
     "text": [
      "estimasi harga rumah yang diminati bapak selamet: Rp.4,158,869,610\n"
     ]
    }
   ],
   "source": [
    "# Nilai estimated price\n",
    "estimated_price = 4.15886961e+09\n",
    "\n",
    "# Format menjadi lebih mudah dibaca, tanpa menggunakan notasi ilmiah\n",
    "estimated_price_formatted = \"{:,.0f}\".format(estimated_price)\n",
    "\n",
    "# Menampilkan harga dalam format yang lebih mudah dipahami\n",
    "print(f'estimasi harga rumah yang diminati bapak selamet: Rp.{estimated_price_formatted}')"
   ]
  }
 ],
 "metadata": {
  "kernelspec": {
   "display_name": "base",
   "language": "python",
   "name": "python3"
  },
  "language_info": {
   "codemirror_mode": {
    "name": "ipython",
    "version": 3
   },
   "file_extension": ".py",
   "mimetype": "text/x-python",
   "name": "python",
   "nbconvert_exporter": "python",
   "pygments_lexer": "ipython3",
   "version": "3.12.3"
  }
 },
 "nbformat": 4,
 "nbformat_minor": 2
}
